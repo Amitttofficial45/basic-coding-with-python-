{
 "cells": [
  {
   "cell_type": "code",
   "execution_count": 1,
   "id": "1ca54f9c-5f4c-4119-b414-a6bb9f1a1801",
   "metadata": {},
   "outputs": [],
   "source": [
    "a=1"
   ]
  },
  {
   "cell_type": "code",
   "execution_count": 2,
   "id": "dc7f2687-a155-4dcf-96dc-e6e4715e48d7",
   "metadata": {},
   "outputs": [
    {
     "data": {
      "text/plain": [
       "1"
      ]
     },
     "execution_count": 2,
     "metadata": {},
     "output_type": "execute_result"
    }
   ],
   "source": [
    "a"
   ]
  },
  {
   "cell_type": "code",
   "execution_count": 3,
   "id": "cc4156af-7805-4886-b28c-3a018baa80aa",
   "metadata": {},
   "outputs": [],
   "source": [
    "amit=45.56"
   ]
  },
  {
   "cell_type": "code",
   "execution_count": 4,
   "id": "e97769ba-653a-4d33-8239-b141d0329870",
   "metadata": {},
   "outputs": [
    {
     "data": {
      "text/plain": [
       "float"
      ]
     },
     "execution_count": 4,
     "metadata": {},
     "output_type": "execute_result"
    }
   ],
   "source": [
    "type(amit)"
   ]
  },
  {
   "cell_type": "code",
   "execution_count": 5,
   "id": "aedd28c5-37ff-43cb-856c-af28db18bf0a",
   "metadata": {},
   "outputs": [],
   "source": [
    "a=[amit,1,3,4,True]"
   ]
  },
  {
   "cell_type": "code",
   "execution_count": 17,
   "id": "f6882ad6-b938-4b1c-a5ed-cbb5a3c8e370",
   "metadata": {},
   "outputs": [],
   "source": [
    "a[4]=200\n"
   ]
  },
  {
   "cell_type": "code",
   "execution_count": 18,
   "id": "8b40a508-5491-42f0-99a1-924e09183c39",
   "metadata": {},
   "outputs": [
    {
     "data": {
      "text/plain": [
       "[45.56, 1, 20, 4, 200]"
      ]
     },
     "execution_count": 18,
     "metadata": {},
     "output_type": "execute_result"
    }
   ],
   "source": [
    "a"
   ]
  },
  {
   "cell_type": "code",
   "execution_count": 14,
   "id": "cb7da47c-c676-43fe-ade5-da3985977546",
   "metadata": {},
   "outputs": [],
   "source": [
    "a[2]=20"
   ]
  },
  {
   "cell_type": "code",
   "execution_count": null,
   "id": "55e3c590-81cb-41ac-9949-d5b3a449b28a",
   "metadata": {},
   "outputs": [],
   "source": [
    "s="
   ]
  },
  {
   "cell_type": "code",
   "execution_count": 21,
   "id": "29efcc99-fcc0-46e4-b244-286f62ba1b42",
   "metadata": {},
   "outputs": [
    {
     "ename": "NameError",
     "evalue": "name 's' is not defined",
     "output_type": "error",
     "traceback": [
      "\u001b[0;31m---------------------------------------------------------------------------\u001b[0m",
      "\u001b[0;31mNameError\u001b[0m                                 Traceback (most recent call last)",
      "Cell \u001b[0;32mIn[21], line 1\u001b[0m\n\u001b[0;32m----> 1\u001b[0m \u001b[38;5;28mtype\u001b[39m(\u001b[43ms\u001b[49m)\n",
      "\u001b[0;31mNameError\u001b[0m: name 's' is not defined"
     ]
    }
   ],
   "source": [
    "type(s)\n"
   ]
  },
  {
   "cell_type": "code",
   "execution_count": null,
   "id": "a3b1bbb2-8071-4b4e-a60a-503d82ad9246",
   "metadata": {},
   "outputs": [],
   "source": [
    "\n"
   ]
  }
 ],
 "metadata": {
  "kernelspec": {
   "display_name": "Python 3 (ipykernel)",
   "language": "python",
   "name": "python3"
  },
  "language_info": {
   "codemirror_mode": {
    "name": "ipython",
    "version": 3
   },
   "file_extension": ".py",
   "mimetype": "text/x-python",
   "name": "python",
   "nbconvert_exporter": "python",
   "pygments_lexer": "ipython3",
   "version": "3.10.8"
  }
 },
 "nbformat": 4,
 "nbformat_minor": 5
}
